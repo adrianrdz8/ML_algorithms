{
  "nbformat": 4,
  "nbformat_minor": 0,
  "metadata": {
    "colab": {
      "name": "Linear_Regression_Scratch.ipynb",
      "provenance": [],
      "authorship_tag": "ABX9TyMyF2l+QdVZ1tV+I/KOPOXa"
    },
    "kernelspec": {
      "name": "python3",
      "display_name": "Python 3"
    },
    "language_info": {
      "name": "python"
    }
  },
  "cells": [
    {
      "cell_type": "markdown",
      "source": [
        "#Linear Regression from Scratch options"
      ],
      "metadata": {
        "id": "4sbiv_bUbqwk"
      }
    },
    {
      "cell_type": "code",
      "execution_count": 1,
      "metadata": {
        "id": "2Joi3EfZZncD"
      },
      "outputs": [],
      "source": [
        "import numpy as np"
      ]
    },
    {
      "cell_type": "markdown",
      "source": [
        "#X and y values"
      ],
      "metadata": {
        "id": "yoSwgm2_bgU9"
      }
    },
    {
      "cell_type": "code",
      "source": [
        "X = 2 * np.random.rand(100, 1)\n",
        "y = 4 + 3 * X + np.random.randn(100, 1)"
      ],
      "metadata": {
        "id": "JTBerRVQZ11r"
      },
      "execution_count": 2,
      "outputs": []
    },
    {
      "cell_type": "markdown",
      "source": [
        "#Option 1:"
      ],
      "metadata": {
        "id": "F5x47JvraQge"
      }
    },
    {
      "cell_type": "markdown",
      "source": [
        "Compute the (multiplicative) inverse of a matrix."
      ],
      "metadata": {
        "id": "9HXSgl-Zbdxj"
      }
    },
    {
      "cell_type": "code",
      "source": [
        "X_b = np.c_[np.ones((100, 1)), X] # add x0 = 1 to each instance\n",
        "opt_theta = np.linalg.inv((X_b.T@X_b))@X_b.T@y\n",
        "opt_theta"
      ],
      "metadata": {
        "colab": {
          "base_uri": "https://localhost:8080/"
        },
        "id": "mLXUnyaKaPfr",
        "outputId": "76b419d4-538a-4e48-b8c2-817eb4966276"
      },
      "execution_count": 4,
      "outputs": [
        {
          "output_type": "execute_result",
          "data": {
            "text/plain": [
              "array([[3.9157229 ],\n",
              "       [3.20856981]])"
            ]
          },
          "metadata": {},
          "execution_count": 4
        }
      ]
    },
    {
      "cell_type": "markdown",
      "source": [
        "#Option 2:"
      ],
      "metadata": {
        "id": "AnIDIOOiaZwj"
      }
    },
    {
      "cell_type": "markdown",
      "source": [
        "Return the least-squares solution to a linear matrix equation."
      ],
      "metadata": {
        "id": "SYqWTZf6bTYH"
      }
    },
    {
      "cell_type": "code",
      "source": [
        "theta_best_svd, residuals, rank, s = np.linalg.lstsq(X_b, y, rcond=1e-6)\n",
        "theta_best_svd"
      ],
      "metadata": {
        "colab": {
          "base_uri": "https://localhost:8080/"
        },
        "id": "1UuzJzwdaUMT",
        "outputId": "afb16953-9bcb-4e7d-ce3a-1e98729b600a"
      },
      "execution_count": 5,
      "outputs": [
        {
          "output_type": "execute_result",
          "data": {
            "text/plain": [
              "array([[3.9157229 ],\n",
              "       [3.20856981]])"
            ]
          },
          "metadata": {},
          "execution_count": 5
        }
      ]
    },
    {
      "cell_type": "markdown",
      "source": [
        "#Option 3 (SVD):"
      ],
      "metadata": {
        "id": "3jePf0XaafI0"
      }
    },
    {
      "cell_type": "markdown",
      "source": [
        "Compute the (Moore-Penrose) pseudo-inverse of a matrix.\n",
        "\n",
        "Calculate the generalized inverse of a matrix using its singular-value decomposition (SVD) and including all large singular values."
      ],
      "metadata": {
        "id": "YvDkPfDkbJv4"
      }
    },
    {
      "cell_type": "code",
      "source": [
        "np.linalg.pinv(X_b)@y"
      ],
      "metadata": {
        "colab": {
          "base_uri": "https://localhost:8080/"
        },
        "id": "vT-RYbTIacoQ",
        "outputId": "5cd58e14-795b-4b7a-cfb9-9e74ab8a99c4"
      },
      "execution_count": 6,
      "outputs": [
        {
          "output_type": "execute_result",
          "data": {
            "text/plain": [
              "array([[3.9157229 ],\n",
              "       [3.20856981]])"
            ]
          },
          "metadata": {},
          "execution_count": 6
        }
      ]
    },
    {
      "cell_type": "markdown",
      "source": [
        "#Option 4 (Gradient Descent):"
      ],
      "metadata": {
        "id": "aNcrQ79xampM"
      }
    },
    {
      "cell_type": "code",
      "source": [
        "alpha = 0.1 # learning rate\n",
        "n_iterations = 1000\n",
        "m=100\n",
        "theta = np.random.randn(2,1) # random initialization\n",
        "for iteration in range(n_iterations):\n",
        "\tgradients = 2/m * X_b.T.dot(X_b.dot(theta) - y)\n",
        "\ttheta = theta - alpha * gradients\n",
        "theta"
      ],
      "metadata": {
        "colab": {
          "base_uri": "https://localhost:8080/"
        },
        "id": "Ucy8s-jwaiPF",
        "outputId": "645d2a99-bd26-455f-c1dc-a3b88a6cab78"
      },
      "execution_count": 8,
      "outputs": [
        {
          "output_type": "execute_result",
          "data": {
            "text/plain": [
              "array([[3.9157229 ],\n",
              "       [3.20856981]])"
            ]
          },
          "metadata": {},
          "execution_count": 8
        }
      ]
    }
  ]
}