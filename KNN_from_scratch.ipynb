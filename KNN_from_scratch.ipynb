{
  "nbformat": 4,
  "nbformat_minor": 0,
  "metadata": {
    "colab": {
      "name": "KNN_from_scratch.ipynb",
      "provenance": [],
      "authorship_tag": "ABX9TyPyp9droutGXHNX5IVhs6dh"
    },
    "kernelspec": {
      "name": "python3",
      "display_name": "Python 3"
    },
    "language_info": {
      "name": "python"
    }
  },
  "cells": [
    {
      "cell_type": "markdown",
      "source": [
        "#KNN from scratch"
      ],
      "metadata": {
        "id": "-fXnzI1o2R20"
      }
    },
    {
      "cell_type": "code",
      "source": [
        "import matplotlib.pyplot as plt\n",
        "import numpy as np\n",
        "import pandas as pd\n",
        "import scipy.stats as sstats\n",
        "import seaborn as sns"
      ],
      "metadata": {
        "id": "MxLaMhkp3SBh"
      },
      "execution_count": 21,
      "outputs": []
    },
    {
      "cell_type": "code",
      "source": [
        "#Euclidian distance\n",
        "def euc(train_X, test_X):\n",
        "  dists = np.sqrt((train_X**2).sum(axis=1).reshape(-1,1) + \n",
        "                  (test_X**2).sum(axis=1).reshape(1,-1) - \n",
        "                  2*(train_X@test_X.T))\n",
        "  return dists"
      ],
      "metadata": {
        "id": "SzMwgb4Z92x2"
      },
      "execution_count": 80,
      "outputs": []
    },
    {
      "cell_type": "code",
      "execution_count": 69,
      "metadata": {
        "id": "N6NrW7DEb8Zp"
      },
      "outputs": [],
      "source": [
        "def KNN(train_X, train_Y, test_X, ks, method=euc):\n",
        "    \"\"\"\n",
        "    Compute predictions for various k\n",
        "    Args:\n",
        "        train_X: array of shape Ntrain x D\n",
        "        train_Y: array of shape Ntrain\n",
        "        test_X: array of shape Ntest x D\n",
        "        ks: list of integers\n",
        "    Returns:\n",
        "        preds: dict k: predictions for k\n",
        "    \"\"\"\n",
        "    #Categorize data to float32\n",
        "    train_X = train_X.astype(np.float32)\n",
        "    test_X = test_X.astype(np.float32)\n",
        "\n",
        "    #Euclidean distance\n",
        "    dists = method(train_X, test_X)\n",
        "    closest = np.argsort(dists, axis=0)\n",
        "    targets = train_Y[closest]\n",
        "\n",
        "    preds = {}\n",
        "    for k in ks:\n",
        "        predictions = sstats.mode(targets[:k], axis=0)[0]\n",
        "        predictions = predictions.ravel()\n",
        "        preds[k] = predictions\n",
        "    return preds"
      ]
    },
    {
      "cell_type": "code",
      "source": [
        "#Testing\n",
        "iris_url = 'https://archive.ics.uci.edu/ml/machine-learning-databases/iris/iris.data'\n",
        "# Use read_csv to load the data. Make sure you get 150 examples!\n",
        "iris_df = pd.read_csv(iris_url, header=None)\n",
        "\n",
        "# Set the column names to\n",
        "iris_df.columns = ['sepal_length', 'sepal_width', 'petal_length', 'petal_width', 'target']\n",
        "iris_df.head()"
      ],
      "metadata": {
        "id": "f53eOH7u3rXV"
      },
      "execution_count": null,
      "outputs": []
    },
    {
      "cell_type": "code",
      "source": [
        "unknown_df = pd.DataFrame(\n",
        "    [[1.5, 0.3, 'unknown'],\n",
        "     [4.5, 1.2, 'unknown'],\n",
        "     [5.1, 1.7, 'unknown'],\n",
        "     [5.5, 2.3, 'unknown']],\n",
        "     columns=['petal_length', 'petal_width', 'target'])\n",
        "\n",
        "sns.scatterplot(x='petal_length', y='petal_width', hue='target', data=iris_df)\n",
        "sns.scatterplot(x='petal_length', y='petal_width', color='gray', marker='v',\n",
        "                label='unknown', s=70, data=unknown_df)"
      ],
      "metadata": {
        "id": "6-wNHNTa4KqK"
      },
      "execution_count": null,
      "outputs": []
    },
    {
      "cell_type": "code",
      "source": [
        "iris_x = np.array(iris_df[['petal_length', 'petal_width']])\n",
        "iris_y = np.array(iris_df['target'])\n",
        "unknown_x = np.array(unknown_df[['petal_length', 'petal_width']])\n",
        "KNN(iris_x, iris_y, unknown_x, [1,3,5,7])"
      ],
      "metadata": {
        "colab": {
          "base_uri": "https://localhost:8080/"
        },
        "id": "HCIw5DWb4myV",
        "outputId": "35c9452d-a211-4cee-d504-7d437a728b4f"
      },
      "execution_count": 71,
      "outputs": [
        {
          "output_type": "execute_result",
          "data": {
            "text/plain": [
              "{1: array(['Iris-setosa', 'Iris-versicolor', 'Iris-virginica',\n",
              "        'Iris-virginica'], dtype=object),\n",
              " 3: array(['Iris-setosa', 'Iris-versicolor', 'Iris-versicolor',\n",
              "        'Iris-virginica'], dtype=object),\n",
              " 5: array(['Iris-setosa', 'Iris-versicolor', 'Iris-virginica',\n",
              "        'Iris-virginica'], dtype=object),\n",
              " 7: array(['Iris-setosa', 'Iris-versicolor', 'Iris-virginica',\n",
              "        'Iris-virginica'], dtype=object)}"
            ]
          },
          "metadata": {},
          "execution_count": 71
        }
      ]
    },
    {
      "cell_type": "code",
      "source": [
        "iris_x = np.array(iris_df[['petal_length', 'petal_width']])\n",
        "iris_y = np.array(iris_df['target'])\n",
        "mesh_step = 0.05\n",
        "\n",
        "mesh_x, mesh_y = np.meshgrid(np.arange(np.min(iris_x[:, 0]), np.max(iris_x[:, 0] + mesh_step), mesh_step),\n",
        "                             np.arange(np.min(iris_x[:, 1]), np.max(iris_x[:, 1] + mesh_step), mesh_step))\n",
        "\n",
        "#use np.unique with suitable options to map the class names to numbers\n",
        "target_names, iris_y_ids = np.unique(iris_y, return_inverse=True)\n",
        "\n",
        "mesh_data = np.hstack([mesh_x.reshape(-1, 1), mesh_y.reshape(-1, 1)])\n",
        "\n",
        "ks = [1, 3, 5, 7]\n",
        "preds = KNN(iris_x, iris_y_ids, mesh_data, ks)\n",
        "for k, preds_k in preds.items():\n",
        "    plt.figure()\n",
        "    plt.title(f\"Decision boundary for k={k}\")\n",
        "    plt.contourf(mesh_x, mesh_y, preds_k.reshape(mesh_x.shape), cmap='summer')\n",
        "    plt.scatter(x='petal_length', y='petal_width', data=iris_df, facecolors='none', edgecolors='blue')"
      ],
      "metadata": {
        "id": "94rA03E3551D"
      },
      "execution_count": null,
      "outputs": []
    },
    {
      "cell_type": "code",
      "source": [
        "#Error rates\n",
        "def error_rates(preds, test_Y):\n",
        "    ret = {}\n",
        "    for k, preds_k in  preds.items():\n",
        "        ret[k] = np.sum(preds_k != test_Y) / test_Y.shape[0]\n",
        "    return ret"
      ],
      "metadata": {
        "id": "3T_MbsAp7Vv0"
      },
      "execution_count": 34,
      "outputs": []
    },
    {
      "cell_type": "code",
      "source": [
        "iris_x = np.array(iris_df[['sepal_length', 'sepal_width', 'petal_length', 'petal_width']])\n",
        "iris_y = np.array(iris_df['target'])\n",
        "\n",
        "ks = range(1, 30, 2)\n",
        "results = []\n",
        "\n",
        "for rep in range(1000):\n",
        "  train_idx = np.random.randint(iris_x.shape[0], size=150)\n",
        "  test_idx = np.setdiff1d(np.arange(iris_x.shape[0]), train_idx)\n",
        "  preds = KNN(iris_x[train_idx], iris_y[train_idx], iris_x[test_idx], ks)\n",
        "  errors = error_rates(preds, iris_y[test_idx])\n",
        "  for k, errors_k in errors.items():\n",
        "    results.append({'K':k, 'error_rate':errors_k})\n",
        "\n",
        "results_df = pd.DataFrame(results)\n",
        "plt.figure()\n",
        "sns.regplot('K', 'error_rate', order=2, data=results_df, x_estimator=np.mean)"
      ],
      "metadata": {
        "colab": {
          "base_uri": "https://localhost:8080/",
          "height": 351
        },
        "id": "TLKI-P5c7fZK",
        "outputId": "f3dd0b89-6b37-4fb9-e412-09d8dcfc7c90"
      },
      "execution_count": 35,
      "outputs": [
        {
          "output_type": "stream",
          "name": "stderr",
          "text": [
            "/usr/local/lib/python3.7/dist-packages/seaborn/_decorators.py:43: FutureWarning: Pass the following variables as keyword args: x, y. From version 0.12, the only valid positional argument will be `data`, and passing other arguments without an explicit keyword will result in an error or misinterpretation.\n",
            "  FutureWarning\n"
          ]
        },
        {
          "output_type": "execute_result",
          "data": {
            "text/plain": [
              "<matplotlib.axes._subplots.AxesSubplot at 0x7fe135763910>"
            ]
          },
          "metadata": {},
          "execution_count": 35
        },
        {
          "output_type": "display_data",
          "data": {
            "image/png": "[encoded data removed]",
            "text/plain": [
              "<Figure size 432x288 with 1 Axes>"
            ]
          },
          "metadata": {
            "needs_background": "light"
          }
        }
      ]
    }
  ]
}