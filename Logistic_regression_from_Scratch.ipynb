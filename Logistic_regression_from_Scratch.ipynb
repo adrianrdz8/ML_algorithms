{
  "nbformat": 4,
  "nbformat_minor": 0,
  "metadata": {
    "colab": {
      "name": "Logistic_regression_from_Scratch.ipynb",
      "provenance": [],
      "collapsed_sections": [],
      "authorship_tag": "ABX9TyOocIdOQIFg5gBysveGbHTi"
    },
    "kernelspec": {
      "name": "python3",
      "display_name": "Python 3"
    },
    "language_info": {
      "name": "python"
    }
  },
  "cells": [
    {
      "cell_type": "markdown",
      "source": [
        "#Logistic Regression from Scratch"
      ],
      "metadata": {
        "id": "CiT2uyPCTQJ6"
      }
    },
    {
      "cell_type": "code",
      "source": [
        "import matplotlib.pyplot as plt\n",
        "import numpy as np\n",
        "import scipy.optimize as sopt\n",
        "from sklearn import datasets"
      ],
      "metadata": {
        "id": "NWOTT_MbTrIx"
      },
      "execution_count": 28,
      "outputs": []
    },
    {
      "cell_type": "code",
      "execution_count": 29,
      "metadata": {
        "id": "zYNodTB_TNA8"
      },
      "outputs": [],
      "source": [
        "def sigmoid(z):\n",
        "  return 1 / (1 + np.exp(-z))"
      ]
    },
    {
      "cell_type": "code",
      "source": [
        "def logistic_model(Theta, X):\n",
        "  z = np.array(Theta[0]*np.array(X[:,0]) + Theta[1]*np.array(X[:,1]) + Theta[2]*np.array(X[:,2]))\n",
        "  return sigmoid(z)"
      ],
      "metadata": {
        "id": "h8bXhahRTYcV"
      },
      "execution_count": 30,
      "outputs": []
    },
    {
      "cell_type": "code",
      "source": [
        "#Negative log likelihood\n",
        "def negative_log(Theta, X, y):\n",
        "  y_pred = logistic_model(Theta, X)\n",
        "  #Taking first derivative\n",
        "  return -1 * sum(np.dot(y.T,np.log(y_pred)),np.dot(1-y.T,np.log(1-y_pred)))"
      ],
      "metadata": {
        "id": "xLsiLmEuTbWQ"
      },
      "execution_count": 31,
      "outputs": []
    },
    {
      "cell_type": "code",
      "source": [
        "#Getting gradient\n",
        "def gradient(Theta, X, y):\n",
        "  grad = X.T @ (sigmoid(X @ Theta) - y)\n",
        "  return grad"
      ],
      "metadata": {
        "id": "VzWndAeNTduo"
      },
      "execution_count": 32,
      "outputs": []
    },
    {
      "cell_type": "code",
      "source": [
        "def logistic_regression(Theta, X, y):\n",
        "  ThetaR = Theta.reshape(X.shape[1], 1)\n",
        "  nll = negative_log(Theta, X, y)\n",
        "  grad = gradient(ThetaR, X, y)\n",
        "  return nll, grad.reshape(Theta.shape)"
      ],
      "metadata": {
        "id": "YgqmyGwqTu_H"
      },
      "execution_count": 33,
      "outputs": []
    },
    {
      "cell_type": "code",
      "source": [
        "iris = datasets.load_iris()\n",
        "print(\"Features: \", iris.feature_names)\n",
        "print(\"Targets: \", iris.target_names)\n",
        "petal_length = iris.data[:, iris.feature_names.index(\"petal length (cm)\")].reshape(-1, 1)\n",
        "petal_width = iris.data[:, iris.feature_names.index(\"petal width (cm)\")].reshape(-1, 1)"
      ],
      "metadata": {
        "colab": {
          "base_uri": "https://localhost:8080/"
        },
        "id": "JxkJmImIVCtU",
        "outputId": "a516a2fa-cd98-4295-d2a5-5fa890f95c7e"
      },
      "execution_count": 34,
      "outputs": [
        {
          "output_type": "stream",
          "name": "stdout",
          "text": [
            "Features:  ['sepal length (cm)', 'sepal width (cm)', 'petal length (cm)', 'petal width (cm)']\n",
            "Targets:  ['setosa' 'versicolor' 'virginica']\n"
          ]
        }
      ]
    },
    {
      "cell_type": "code",
      "source": [
        "# Extract the petal_length and petal_width of versicolors and virginicas\n",
        "IrisX = np.hstack([np.ones_like(petal_length), petal_length, petal_width])\n",
        "IrisX = IrisX[iris.target != 0, :]\n",
        "\n",
        "# Set versicolor=0 and virginia=1\n",
        "IrisY = (iris.target[iris.target != 0] - 1).reshape(-1, 1).astype(np.float64)\n",
        "\n",
        "plt.scatter(IrisX[:, 1], IrisX[:, 2], c=IrisY, cmap=\"spring\")\n",
        "plt.xlabel(\"petal_length\")\n",
        "plt.ylabel(\"petal_width\")"
      ],
      "metadata": {
        "colab": {
          "base_uri": "https://localhost:8080/",
          "height": 297
        },
        "id": "t5oEcpkrVQNN",
        "outputId": "1b88bbbb-e232-4831-e92c-77ce4882265c"
      },
      "execution_count": 35,
      "outputs": [
        {
          "output_type": "execute_result",
          "data": {
            "text/plain": [
              "Text(0, 0.5, 'petal_width')"
            ]
          },
          "metadata": {},
          "execution_count": 35
        },
        {
          "output_type": "display_data",
          "data": {
            "image/png": "[encoded data removed]",
            "text/plain": [
              "<Figure size 432x288 with 1 Axes>"
            ]
          },
          "metadata": {
            "needs_background": "light"
          }
        }
      ]
    },
    {
      "cell_type": "code",
      "source": [
        "#Utilizing a solver (bfgs)\n",
        "Theta0 = np.zeros((3, ))\n",
        "ThetaOpt = sopt.fmin_l_bfgs_b(\n",
        "    lambda Theta: logistic_regression(Theta, IrisX, IrisY), np.array(Theta0)\n",
        ")[0]\n",
        "print(ThetaOpt)\n",
        "\n",
        "plt.scatter(IrisX[:, 1], IrisX[:, 2], c=IrisY.ravel(), cmap=\"spring\")\n",
        "plt.xlabel(\"petal_length\")\n",
        "plt.ylabel(\"petal_width\")\n",
        "pl_min, pl_max = plt.xlim()\n",
        "pl = np.linspace(pl_min, pl_max, 1000)\n",
        "plt.plot(pl, -(ThetaOpt[0] + ThetaOpt[1] * pl) / ThetaOpt[2])\n",
        "plt.xlim(pl_min, pl_max)"
      ],
      "metadata": {
        "colab": {
          "base_uri": "https://localhost:8080/",
          "height": 315
        },
        "id": "q-PzttPsUVMO",
        "outputId": "a37d37e2-f650-4f00-e8bd-59eb84d76229"
      },
      "execution_count": 36,
      "outputs": [
        {
          "output_type": "stream",
          "name": "stdout",
          "text": [
            "[-45.27237188   5.75453487  10.44670958]\n"
          ]
        },
        {
          "output_type": "execute_result",
          "data": {
            "text/plain": [
              "(2.805, 7.095000000000001)"
            ]
          },
          "metadata": {},
          "execution_count": 36
        },
        {
          "output_type": "display_data",
          "data": {
            "image/png": "[encoded data removed]",
            "text/plain": [
              "<Figure size 432x288 with 1 Axes>"
            ]
          },
          "metadata": {
            "needs_background": "light"
          }
        }
      ]
    }
  ]
}